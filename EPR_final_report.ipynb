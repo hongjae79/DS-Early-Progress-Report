{
 "cells": [
  {
   "cell_type": "markdown",
   "id": "extraordinary-graham",
   "metadata": {},
   "source": [
    "# <center> Early Alert Progress Report of College Math Classes</center> \n",
    "\n",
    "### <center>Jason Park</center> \n",
    "\n",
    "### <center>July 2022</center>"
   ]
  },
  {
   "cell_type": "markdown",
   "id": "presidential-palestine",
   "metadata": {},
   "source": [
    "## 1. Introduction\n",
    "\n",
    "One of the main interests of the universities administrative offices is the Early Alert Progress Report.  The universities want to know whether students will pass or fail at the earlier stage of the semester.  The professors and administrative offices can react better by aiding students with available resources if they find the indications of lack of progress at an earlier time.  <br>\n",
    "\n",
    "At University of Nevada, Las Vegas, the Office of the Vice Provost for Undergraduate Education sends the survey of Early Alert Progress Report at the beginning of the semester to the University instructors.  These surveys heavily rely on the instructors' experiences and observations.  <br>\n",
    "\n",
    "This data analysis is an attempt of Early Alert Progress Report by using a machine learning model from the data of math classes that the author has taught from Fall 2019 to Spring 2022.  Classes are as followings:  9 classes of M127 Precalculus II, 1 class of M126 Precalculus I, 2 classes of M181 Calculus I, 7 classes of M251 Discrete Mathematics I, and 4 classes of M351 Discrete Mathematics II. These data consist of scores of homework, midterms and final.  The numbers of assignments and due dates are not identical.  So, the data engineering will be required to make a universal coherence.  It will be discussed in section 2. <br>\n",
    "\n",
    "The data analysis is done from only college math classes.  We like to especially focus on the lower math courses, mainly 100 level math courses, since they consist of more than 80% of math classes that the Math Department offers.  Every student must take some math courses to continue to take their major classes.  It is often the case that passing the math courses is the main hindrance that prevents students to complete their academic goals.  "
   ]
  },
  {
   "cell_type": "markdown",
   "id": "japanese-malaysia",
   "metadata": {},
   "source": [
    "## 2. Data Preparation and Processing\n",
    "\n",
    "Here are some key points of data preparation and processing. <br>\n",
    "\n",
    "#### 1. The numbers of assignments and due dates vary among classes, so the machine learning model will be conducted by week report.  <br>\n",
    "Some classes have 3 assignments on the first week of the semester.  Some classes have only 1 assignment on the first week.  In order to make a universal coherence, we will modify our data to weekly completion scores of the assignments.  For instance, if a student A completed 88% of the assignments by the week 2, then the input data of the student at week 2 is 0.88.  By the end of week 2, we will have first assignments due.  With those data we will run the machine learning model which will predict whether students will pass or not.  By the end of week 3, we will have more assignments due.  With more data we have, we will run the machine learning model of week 3.  And we will continue this up to week 11.  The week 11 is chosen as the last week of this data analysis because the last day to withdraw from the class with no refund is at the end of week 11.  Another notable week is the week 6 which have the last day to withdraw with 50% refund.  <br> \n",
    "\n",
    "#### 2. There will be 2 different groups of data set.  <br>\n",
    "The group 1 will be classes with data from week 2.  There is total 12 classes with first assignments due week 2.  The group 2 will be classes from week 3.  There are 9 such classes.     <br>"
   ]
  },
  {
   "cell_type": "markdown",
   "id": "foreign-joyce",
   "metadata": {},
   "source": [
    "## 3. Machine Learning Model\n",
    "\n",
    "The data analysis is done in python with the logistic regression model in scikit-learn model.  For the hyperparameters, we chose the default parameters: C = 1, penalty = l2, and solver is lbfgs.  The gridsearch method is conducted to find the optimal parameters, but it turns out that there is no difference in results.  Here is one example:  \n",
    "\n",
    "| Acc. Scores with \\ weeks |  week 3 | week 4  | week 5 | week 6| week 7| week 8| week 9| week 10|week 11|\n",
    "|---:|:-------------|:-----------|:------|:------| :------|:------|:------|:------|:------|\n",
    "| C = 1, penalty = l2, solver = lbfgs | .7707 | .7940 |.7840 |.8139|.8405|.8438|.8438|.8405|.8471|\n",
    "| C = 0.1, penalty = l2, solver = newton-cg | .7707|.7940|.7840|.8139|.8405|.8438|.8438|.8405|.8471|\n",
    "\n",
    "The table above is the accuracy scores with different hyperparameters in the case of Lower Division Classes with data from week 3.  The same result is at section 4.2.2.  <br>\n",
    "\n",
    "The input data X is the completion rate of students' assignments at each week.  The target y is either pass or fail.  Here is one example.  \n",
    "\n",
    "| name |  week 3 | week 4  | pass |\n",
    "|---:|:-------------|:-----------|:------|\n",
    "|John Doe | 0.0000 | 0.0000 |0.0 | \n",
    "| Jenna Starr | 0.9552|0.1862|1.0| \n",
    "| Peter Ziggler | 1.0000 | 0.9034 | 1.0 |\n",
    "\n",
    "This table shows the students' assignment completion rate at the given week.  Names in this table are all false names.  "
   ]
  },
  {
   "cell_type": "markdown",
   "id": "daily-decline",
   "metadata": {},
   "source": [
    "## 4. Results"
   ]
  },
  {
   "cell_type": "markdown",
   "id": "muslim-pottery",
   "metadata": {},
   "source": [
    "### 4.1 All Classes\n",
    "\n",
    "For the data analysis, we will use the data from all 23 classes: 9 classes of M127 Precalculus II, 1 class of M126 Precalculus I, 2 classes of M181 Calculus I, 7 classes of M251 Discrete Mathematics I, and 4 classes of M351 Discrete Mathematics II.  We will divide them to 2 groups: classes with data from week 2 and classes with data from week 3.  "
   ]
  },
  {
   "cell_type": "markdown",
   "id": "hired-albuquerque",
   "metadata": {},
   "source": [
    "#### 4.1.1  Classes with Data from Week 2\n",
    "\n",
    "Classes with data from week 2 consist of 5 classes of M127, 5 classes of M251, and 2 classes of M351.  There are 463 total students.  "
   ]
  },
  {
   "cell_type": "markdown",
   "id": "french-albert",
   "metadata": {},
   "source": [
    "| metric \\ weeks | week 2  | week 3 | week 4  | week 5 | week 6| week 7| week 8| week 9| week 10|week 11|\n",
    "|---:|:-------------|:-----------|:------|:------| :------|:------|:------|:------|:------|:------|\n",
    "| Accuracy Score | .7638 | .7829|.8106|.8234|.8276|.8468|.8531|.8638|.8744|.8744|\n",
    "| Balanced Accuracy Score | .7440|.7751|.8092|.8170|.8237|.8319|.8435|.8516|.8669|.8614|"
   ]
  },
  {
   "cell_type": "markdown",
   "id": "changed-institute",
   "metadata": {},
   "source": [
    "![alt text](plot_week2_all.png \"Title\")"
   ]
  },
  {
   "cell_type": "markdown",
   "id": "rotary-reserve",
   "metadata": {},
   "source": [
    "The accuracy score at week 2 is .76.  As more assignments are turned in, the model prediction accuracy increases.  "
   ]
  },
  {
   "cell_type": "markdown",
   "id": "satisfactory-hampton",
   "metadata": {},
   "source": [
    "#### 4.1.2 Classes with Data from Week 3\n",
    "\n",
    "Classes with data from week 3 consist of 2 classes of M181, 2 classes of M351, 1 class of M126, and 4 classes of M127.  There are 380 students in this category.  "
   ]
  },
  {
   "cell_type": "markdown",
   "id": "underlying-lawsuit",
   "metadata": {},
   "source": [
    "| metric \\ weeks |  week 3 | week 4  | week 5 | week 6| week 7| week 8| week 9| week 10|week 11|\n",
    "|---:|:-------------|:-----------|:------|:------| :------|:------|:------|:------|:------|\n",
    "| Accuracy Score | .7763 | .7657|.7784|.8157|.8236|.8289|.8342|.8368|.8526|\n",
    "| Balanced Accuracy Score | .7717|.7450|.7501|.8101|.8155|.8227|.8300|.8242|.8468|"
   ]
  },
  {
   "cell_type": "markdown",
   "id": "finished-battlefield",
   "metadata": {},
   "source": [
    "![alt text](plot_week3_all.png \"Title\")"
   ]
  },
  {
   "cell_type": "markdown",
   "id": "photographic-gross",
   "metadata": {},
   "source": [
    "### 4.2 Lower Division Classes\n",
    "\n",
    "The lower division math classes, 100 level math classes, are particularly in our interests since they make up more than 80% of the math classes in UNLV and students are required to pass these classes to move to their major courses. <br>\n",
    "\n",
    "There are data from total 12 lower division classes:  9 classes of M127, 1 class of M126, and 2 classes of M181.   "
   ]
  },
  {
   "cell_type": "markdown",
   "id": "fifteen-neighborhood",
   "metadata": {},
   "source": [
    "#### 4.2.1 Classes with Data from Week 2\n",
    "\n",
    "5 classes of M127 have data from week 2.  There are 238 students.  "
   ]
  },
  {
   "cell_type": "markdown",
   "id": "pointed-alpha",
   "metadata": {},
   "source": [
    "| metric \\ weeks |  week 2| week 3 | week 4  | week 5 | week 6| week 7| week 8| week 9| week 10|week 11|\n",
    "|---:|:-------------|:-----------|:------|:------| :------|:------|:------|:------|:------|:-----|\n",
    "| Accuracy Score | .7226 | .7394|.7857|.7941|.8025|.8487|.8571|.8781|.8529| .8529|\n",
    "| Balanced Accuracy Score | .7523|.7866|.8221|.8137|.8246|.8494|.8588|.8863|.8531|.8511|"
   ]
  },
  {
   "cell_type": "markdown",
   "id": "preliminary-marking",
   "metadata": {},
   "source": [
    "![alt text](plot_week2_low.png \"Title\")"
   ]
  },
  {
   "cell_type": "markdown",
   "id": "sorted-imperial",
   "metadata": {},
   "source": [
    "#### 4.2.2 Classes with Data from Week 3\n",
    "\n",
    "There are 4 classes of M127, 1 class of M126, and 2 classes of M181.  Total number of students is 301."
   ]
  },
  {
   "cell_type": "markdown",
   "id": "hairy-powell",
   "metadata": {},
   "source": [
    "| metric \\ weeks |  week 3 | week 4  | week 5 | week 6| week 7| week 8| week 9| week 10|week 11|\n",
    "|---:|:-------------|:-----------|:------|:------| :------|:------|:------|:------|:------|\n",
    "| Accuracy Score | .7707 | .7940 |.7840 |.8139|.8405|.8438|.8438|.8405|.8471|\n",
    "| Balanced Accuracy Score | .7939|.8068|.7982|.8107|.8434|.8507|.8507|.8434|.8559|"
   ]
  },
  {
   "cell_type": "markdown",
   "id": "practical-flour",
   "metadata": {},
   "source": [
    "![alt text](plot_week3_low.png \"Title\")"
   ]
  },
  {
   "cell_type": "markdown",
   "id": "composed-camel",
   "metadata": {},
   "source": [
    "## 5. Conclusion\n",
    "\n",
    "### 5.1 Final Summary\n",
    "\n",
    "In all cases, the prediction accuracies are around at .75 at the week 2 or week 3, and they increase to about .80 after week 5 and week 6, which is the time of the first midterm.  After week 6, the accuracy scores increase gradually and reach about .85 at the end.  This indicates that after first midterm, some students start giving up due to the low performance of the exam, and the others continue to complete assignments well.  The graph would reach 1 after the final scores are in.  The final score makes up 30% of the grade, so it is a major factor of passing or non-passing.  In this data analysis, we didn't include final scores since the goal of the project was to find the indication of the student success as early as possible.  <br>\n",
    "\n",
    "In point of the Early Progress Report, the model predicts between 75% and 80% accuracy of students' pass before week 5, and improves accuracies after that.  \n",
    "\n",
    "### 5.2 Future Work and Improvements\n",
    "\n",
    "- The size of the data could be larger.  Then accuracies of the model could increase. \n",
    "- In this data analysis, only logistic regression model is used.  Other classification machine learning models could be applied and they can be compared so that the best model can be found. \n",
    "- Let's consider two cases.  Case 1) A student performs bad at the beginning of the semester and fails at the end.  Case 2) A student performs good at the beginning and passes at the end.  In both cases, the model would predict accurately.  But what if a student performs bad at the beginning but work hard later and pass the class?  This is the type of case that the model cannot catch and it would predict wrong.  There could be various reasons that students' performances go from the bad to good.  A student might not have any motivation to study at the beginning, but somehow s/he changes his/her mind and works hard.  Or a student is bad at mathematics generally but meets a good instructor and performance increases.  It is not even clear that we can find a machine learning model that can catch the change of a student's mind or a chemistry between a student and a teacher.  This is rather a philosophical question.    "
   ]
  }
 ],
 "metadata": {
  "kernelspec": {
   "display_name": "Python 3",
   "language": "python",
   "name": "python3"
  },
  "language_info": {
   "codemirror_mode": {
    "name": "ipython",
    "version": 3
   },
   "file_extension": ".py",
   "mimetype": "text/x-python",
   "name": "python",
   "nbconvert_exporter": "python",
   "pygments_lexer": "ipython3",
   "version": "3.8.5"
  }
 },
 "nbformat": 4,
 "nbformat_minor": 5
}
